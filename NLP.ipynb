{
 "cells": [
  {
   "cell_type": "code",
   "execution_count": null,
   "metadata": {},
   "outputs": [],
   "source": [
    "pip install textattack"
   ]
  },
  {
   "cell_type": "code",
   "execution_count": null,
   "metadata": {},
   "outputs": [],
   "source": [
    "pip install nlpaug"
   ]
  },
  {
   "cell_type": "code",
   "execution_count": 12,
   "metadata": {},
   "outputs": [
    {
     "name": "stderr",
     "output_type": "stream",
     "text": [
      "[nltk_data] Downloading package punkt to\n",
      "[nltk_data]     C:\\Users\\DELL\\AppData\\Roaming\\nltk_data...\n",
      "[nltk_data]   Package punkt is already up-to-date!\n",
      "[nltk_data] Downloading package wordnet to\n",
      "[nltk_data]     C:\\Users\\DELL\\AppData\\Roaming\\nltk_data...\n",
      "[nltk_data]   Package wordnet is already up-to-date!\n",
      "[nltk_data] Downloading package averaged_perceptron_tagger to\n",
      "[nltk_data]     C:\\Users\\DELL\\nltk_data...\n",
      "[nltk_data]   Unzipping taggers\\averaged_perceptron_tagger.zip.\n"
     ]
    },
    {
     "data": {
      "text/plain": [
       "True"
      ]
     },
     "execution_count": 12,
     "metadata": {},
     "output_type": "execute_result"
    }
   ],
   "source": [
    "import nltk\n",
    "nltk.download('punkt')  # For tokenization\n",
    "nltk.download('wordnet')  # For WordNet Synonym Augmentation\n",
    "nltk.download('averaged_perceptron_tagger', download_dir='C:\\\\Users\\\\DELL\\\\nltk_data')\n",
    " # For POS tagging (needed for SynonymAug)"
   ]
  },
  {
   "cell_type": "code",
   "execution_count": null,
   "metadata": {},
   "outputs": [],
   "source": [
    "import json\n",
    "import random\n",
    "import nlpaug.augmenter.word as naw\n",
    "import nlpaug.augmenter.char as nac\n",
    "\n",
    "# Load your dataset\n",
    "with open(\"dataset_21.json\", \"r\") as f:\n",
    "    data = json.load(f)  # Expecting [{\"prompt\": \"...\", \"code\": \"...\"}]\n",
    "\n",
    "# ✅ 1. Synonym Replacement (WordNet)\n",
    "synonym_aug = naw.SynonymAug(aug_src='wordnet')\n",
    "\n",
    "# ✅ 2. Random Insertion & Deletion\n",
    "def random_insert(text):\n",
    "    if isinstance(text, list):  # Convert list to string if needed\n",
    "        text = \" \".join(text)\n",
    "    words = text.split()\n",
    "    words.insert(random.randint(0, len(words)), random.choice([\"Python\", \"algorithm\", \"method\", \"code\"]))\n",
    "    return \" \".join(words)\n",
    "\n",
    "def random_delete(text):\n",
    "    if isinstance(text, list):  # Convert list to string if needed\n",
    "        text = \" \".join(text)\n",
    "    words = text.split()\n",
    "    if len(words) > 3:\n",
    "        words.pop(random.randint(0, len(words) - 1))\n",
    "    return \" \".join(words)\n",
    "\n",
    "# ✅ 3. Sentence Shuffling\n",
    "def sentence_shuffle(text):\n",
    "    if isinstance(text, list):  # Convert list to string if needed\n",
    "        text = \" \".join(text)\n",
    "    sentences = text.split(\". \")\n",
    "    random.shuffle(sentences)\n",
    "    return \". \".join(sentences)\n",
    "\n",
    "# ✅ 4. Noise Injection (Character Level)\n",
    "keyboard_aug = nac.KeyboardAug()\n",
    "def noise_injection(text):\n",
    "    augmented_text = keyboard_aug.augment(text)\n",
    "    return augmented_text[0] if isinstance(augmented_text, list) else augmented_text\n",
    "\n",
    "# Augment dataset\n",
    "augmented_data = []\n",
    "for item in data:\n",
    "    original_prompt = item[\"prompt\"]\n",
    "    code = item[\"code\"]\n",
    "\n",
    "    # Apply augmentations\n",
    "    variations = [\n",
    "        synonym_aug.augment(original_prompt),  # Correct usage (returns the augmented text directly)\n",
    "        random_insert(original_prompt),\n",
    "        random_delete(original_prompt),\n",
    "        sentence_shuffle(original_prompt),\n",
    "        noise_injection(original_prompt)\n",
    "    ]\n",
    "\n",
    "    # Keep the original pair\n",
    "    augmented_data.append({\"prompt\": original_prompt, \"code\": code})\n",
    "\n",
    "    # Add multiple variations, each paired with the same code\n",
    "    for variant in variations:\n",
    "        augmented_data.append({\"prompt\": variant, \"code\": code})\n",
    "\n",
    "# Save the new dataset\n",
    "with open(\"dataset_21_new.json\", \"w\") as f:\n",
    "    json.dump(augmented_data, f, indent=4)\n",
    "\n",
    "print(\"Augmented dataset saved as dataset_21_new.json\")\n"
   ]
  },
  {
   "cell_type": "code",
   "execution_count": 1,
   "metadata": {},
   "outputs": [
    {
     "name": "stdout",
     "output_type": "stream",
     "text": [
      "Augmented dataset saved as twice_augmented_dataset.json\n"
     ]
    }
   ],
   "source": [
    "import json\n",
    "import random\n",
    "import nlpaug.augmenter.word as naw\n",
    "import nlpaug.augmenter.char as nac\n",
    "\n",
    "# Load your dataset\n",
    "with open(\"twice_augmented_dataset.json\", \"r\") as f:\n",
    "    data = json.load(f)  # Expecting [{\"prompt\": \"...\", \"code\": \"...\"}]\n",
    "\n",
    "# ✅ 1. Synonym Replacement (WordNet)\n",
    "synonym_aug = naw.SynonymAug(aug_src='wordnet')\n",
    "\n",
    "# ✅ 2. Random Insertion & Deletion\n",
    "def random_insert(text):\n",
    "    if isinstance(text, list):  # Convert list to string if needed\n",
    "        text = \" \".join(text)\n",
    "    words = text.split()\n",
    "    words.insert(random.randint(0, len(words)), random.choice([\"Python\", \"algorithm\", \"method\", \"code\"]))\n",
    "    return \" \".join(words)\n",
    "\n",
    "def random_delete(text):\n",
    "    words = text.split()\n",
    "    if len(words) > 3:\n",
    "        words.pop(random.randint(0, len(words) - 1))\n",
    "    return \" \".join(words)\n",
    "\n",
    "# ✅ 3. Sentence Shuffling\n",
    "def sentence_shuffle(text):\n",
    "    sentences = text.split(\". \")\n",
    "    random.shuffle(sentences)\n",
    "    return \". \".join(sentences)\n",
    "\n",
    "# ✅ 4. Noise Injection (Character Level)\n",
    "keyboard_aug = nac.KeyboardAug()\n",
    "def noise_injection(text):\n",
    "    augmented_text = keyboard_aug.augment(text)\n",
    "    return augmented_text[0] if isinstance(augmented_text, list) else augmented_text\n",
    "\n",
    "# Augment dataset\n",
    "augmented_data = []\n",
    "for item in data:\n",
    "    original_prompt = item[\"prompt\"]\n",
    "    code = item[\"code\"]\n",
    "\n",
    "    # Apply augmentations\n",
    "    # Ensure each augmentation returns a string, not a list\n",
    "    augmented_variations = [\n",
    "        random.choice(synonym_aug.augment(original_prompt)),  # Choose one augmentation from the list\n",
    "        random_insert(original_prompt),\n",
    "        random_delete(original_prompt),\n",
    "        sentence_shuffle(original_prompt),\n",
    "        noise_injection(original_prompt)  # Make sure it returns a string\n",
    "    ]\n",
    "\n",
    "    # Keep the original pair\n",
    "    augmented_data.append({\"prompt\": original_prompt, \"code\": code})\n",
    "\n",
    "    # Add multiple variations, each paired with the same code\n",
    "    for variant in augmented_variations:\n",
    "        augmented_data.append({\"prompt\": variant, \"code\": code})\n",
    "\n",
    "# Save the new dataset\n",
    "with open(\"thrice_augmented_dataset.json\", \"w\") as f:\n",
    "    json.dump(augmented_data, f, indent=4)\n",
    "\n",
    "print(\"Augmented dataset saved as twice_augmented_dataset.json\")\n"
   ]
  }
 ],
 "metadata": {
  "kernelspec": {
   "display_name": "Python 3",
   "language": "python",
   "name": "python3"
  },
  "language_info": {
   "codemirror_mode": {
    "name": "ipython",
    "version": 3
   },
   "file_extension": ".py",
   "mimetype": "text/x-python",
   "name": "python",
   "nbconvert_exporter": "python",
   "pygments_lexer": "ipython3",
   "version": "3.12.4"
  }
 },
 "nbformat": 4,
 "nbformat_minor": 2
}
